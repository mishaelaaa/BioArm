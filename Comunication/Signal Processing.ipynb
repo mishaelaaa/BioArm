{
 "cells": [
  {
   "cell_type": "code",
   "execution_count": 1,
   "id": "1315fe03",
   "metadata": {},
   "outputs": [],
   "source": [
    "import mne\n",
    "# Importing numpy \n",
    "import numpy as np\n",
    "# Importing Scipy \n",
    "import scipy as sp\n",
    "# Importing Pandas Library \n",
    "import pandas as pd\n",
    "# import glob function to scrap files path\n",
    "from glob import glob\n",
    "# import display() for better visualitions of DataFrames and arrays\n",
    "from IPython.display import display\n",
    "# import pyplot for plotting\n",
    "import matplotlib.pyplot as plt\n",
    "import math\n",
    "from skimage.restoration import denoise_wavelet\n",
    "from scipy.signal import savgol_filter\n",
    "from scipy.signal import medfilt\n",
    "import seaborn as sns\n",
    "import pywt"
   ]
  },
  {
   "cell_type": "code",
   "execution_count": null,
   "id": "b24e9256",
   "metadata": {},
   "outputs": [],
   "source": []
  }
 ],
 "metadata": {
  "kernelspec": {
   "display_name": "Python 3 (ipykernel)",
   "language": "python",
   "name": "python3"
  },
  "language_info": {
   "codemirror_mode": {
    "name": "ipython",
    "version": 3
   },
   "file_extension": ".py",
   "mimetype": "text/x-python",
   "name": "python",
   "nbconvert_exporter": "python",
   "pygments_lexer": "ipython3",
   "version": "3.9.7"
  }
 },
 "nbformat": 4,
 "nbformat_minor": 5
}
